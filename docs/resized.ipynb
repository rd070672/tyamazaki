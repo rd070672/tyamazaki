{
 "cells": [
  {
   "cell_type": "code",
   "execution_count": 1,
   "metadata": {},
   "outputs": [
    {
     "name": "stdout",
     "output_type": "stream",
     "text": [
      "✅ Saved: C:\\Users\\yamaz\\Documents\\GitHub\\yamazakilab\\docs\\album\\album_resized\\coil.jpg\n",
      "✅ Saved: C:\\Users\\yamaz\\Documents\\GitHub\\yamazakilab\\docs\\album\\album_resized\\combi.jpg\n",
      "✅ Saved: C:\\Users\\yamaz\\Documents\\GitHub\\yamazakilab\\docs\\album\\album_resized\\crystal.jpg\n",
      "✅ Saved: C:\\Users\\yamaz\\Documents\\GitHub\\yamazakilab\\docs\\album\\album_resized\\domain.jpg\n",
      "✅ Saved: C:\\Users\\yamaz\\Documents\\GitHub\\yamazakilab\\docs\\album\\album_resized\\heating.jpg\n",
      "✅ Saved: C:\\Users\\yamaz\\Documents\\GitHub\\yamazakilab\\docs\\album\\album_resized\\jafoe.jpg\n",
      "✅ Saved: C:\\Users\\yamaz\\Documents\\GitHub\\yamazakilab\\docs\\album\\album_resized\\jig.jpg\n",
      "✅ Saved: C:\\Users\\yamaz\\Documents\\GitHub\\yamazakilab\\docs\\album\\album_resized\\measure-1.jpg\n",
      "✅ Saved: C:\\Users\\yamaz\\Documents\\GitHub\\yamazakilab\\docs\\album\\album_resized\\measure-2.jpg\n",
      "✅ Saved: C:\\Users\\yamaz\\Documents\\GitHub\\yamazakilab\\docs\\album\\album_resized\\meeting.jpg\n",
      "✅ Saved: C:\\Users\\yamaz\\Documents\\GitHub\\yamazakilab\\docs\\album\\album_resized\\microsim.jpg\n",
      "✅ Saved: C:\\Users\\yamaz\\Documents\\GitHub\\yamazakilab\\docs\\album\\album_resized\\skyrmion.jpg\n",
      "✅ Saved: C:\\Users\\yamaz\\Documents\\GitHub\\yamazakilab\\docs\\album\\album_resized\\sp8-1.jpg\n",
      "✅ Saved: C:\\Users\\yamaz\\Documents\\GitHub\\yamazakilab\\docs\\album\\album_resized\\sp8-2.jpg\n",
      "✅ Saved: C:\\Users\\yamaz\\Documents\\GitHub\\yamazakilab\\docs\\album\\album_resized\\sp8-3.jpg\n",
      "✅ Saved: C:\\Users\\yamaz\\Documents\\GitHub\\yamazakilab\\docs\\album\\album_resized\\sp8-4.jpg\n",
      "✅ Saved: C:\\Users\\yamaz\\Documents\\GitHub\\yamazakilab\\docs\\album\\album_resized\\sp8-5.jpg\n",
      "✅ Saved: C:\\Users\\yamaz\\Documents\\GitHub\\yamazakilab\\docs\\album\\album_resized\\study.jpg\n",
      "✅ Saved: C:\\Users\\yamaz\\Documents\\GitHub\\yamazakilab\\docs\\album\\album_resized\\sub.jpg\n",
      "✅ Saved: C:\\Users\\yamaz\\Documents\\GitHub\\yamazakilab\\docs\\album\\album_resized\\tem.jpg\n",
      "✅ Saved: C:\\Users\\yamaz\\Documents\\GitHub\\yamazakilab\\docs\\album\\album_resized\\xrd.jpg\n",
      "✅ Saved: C:\\Users\\yamaz\\Documents\\GitHub\\yamazakilab\\docs\\album\\album_resized\\yokohama.jpg\n"
     ]
    }
   ],
   "source": [
    "import os\n",
    "from pathlib import Path\n",
    "from PIL import Image\n",
    "\n",
    "# === 設定 ===\n",
    "base_dir = Path(r\"C:\\Users\\yamaz\\Documents\\GitHub\\yamazakilab\\docs\\album\")\n",
    "output_dir = base_dir / \"album_resized\"\n",
    "output_dir.mkdir(exist_ok=True)\n",
    "\n",
    "# 対象とする画像拡張子\n",
    "extensions = [\".jpg\", \".jpeg\", \".png\", \".bmp\", \".tiff\", \".webp\"]\n",
    "\n",
    "# === メイン処理 ===\n",
    "for img_path in base_dir.glob(\"*\"):\n",
    "    if img_path.suffix.lower() not in extensions:\n",
    "        continue  # 画像以外はスキップ\n",
    "\n",
    "    try:\n",
    "        # 画像を開く\n",
    "        with Image.open(img_path) as img:\n",
    "            # アスペクト比を保持して横幅600pxにリサイズ\n",
    "            w_percent = 600 / float(img.width)\n",
    "            new_height = int(img.height * w_percent)\n",
    "            resized_img = img.resize((600, new_height), Image.LANCZOS)\n",
    "\n",
    "            # RGB変換（PNG等の透過対策）\n",
    "            if resized_img.mode in (\"RGBA\", \"P\"):\n",
    "                resized_img = resized_img.convert(\"RGB\")\n",
    "\n",
    "            # 保存先パス\n",
    "            out_path = output_dir / img_path.name\n",
    "\n",
    "            # JPEGで圧縮保存（PNGもJPEGに変換可）\n",
    "            resized_img.save(out_path, quality=85, optimize=True)\n",
    "\n",
    "            print(f\"✅ Saved: {out_path}\")\n",
    "\n",
    "    except Exception as e:\n",
    "        print(f\"❌ Error processing {img_path}: {e}\")\n"
   ]
  }
 ],
 "metadata": {
  "kernelspec": {
   "display_name": "analysis",
   "language": "python",
   "name": "python3"
  },
  "language_info": {
   "codemirror_mode": {
    "name": "ipython",
    "version": 3
   },
   "file_extension": ".py",
   "mimetype": "text/x-python",
   "name": "python",
   "nbconvert_exporter": "python",
   "pygments_lexer": "ipython3",
   "version": "3.11.5"
  }
 },
 "nbformat": 4,
 "nbformat_minor": 5
}
